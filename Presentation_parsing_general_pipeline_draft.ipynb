{
 "cells": [
  {
   "cell_type": "markdown",
   "metadata": {},
   "source": [
    "# Текущий путь"
   ]
  },
  {
   "cell_type": "code",
   "execution_count": 141,
   "metadata": {},
   "outputs": [
    {
     "data": {
      "text/plain": [
       "'C:\\\\Users\\\\mkhamzanov\\\\Desktop\\\\PCA\\\\code'"
      ]
     },
     "execution_count": 141,
     "metadata": {},
     "output_type": "execute_result"
    }
   ],
   "source": [
    "os.getcwd()"
   ]
  },
  {
   "cell_type": "markdown",
   "metadata": {},
   "source": [
    "# Отркыть преентацию"
   ]
  },
  {
   "cell_type": "code",
   "execution_count": 142,
   "metadata": {},
   "outputs": [
    {
     "data": {
      "text/plain": [
       "'C:\\\\Users\\\\mkhamzanov\\\\Desktop\\\\PCA\\\\code'"
      ]
     },
     "execution_count": 142,
     "metadata": {},
     "output_type": "execute_result"
    }
   ],
   "source": [
    "from pptx import Presentation\n",
    "import os\n",
    "import pandas as pd\n",
    "name = 'A.R. Bikchentay.pptx'\n",
    "prs = Presentation(name)\n",
    "name\n",
    "os.getcwd()"
   ]
  },
  {
   "cell_type": "code",
   "execution_count": 144,
   "metadata": {},
   "outputs": [],
   "source": [
    "#Логика следующая, для каждого слайда создаем свой пандасовский датафрейм с ключом 'Key' = 1.\n",
    "#Далее все полученные датасеты джойним по данному ключу и получаем конечную таблицу."
   ]
  },
  {
   "cell_type": "markdown",
   "metadata": {},
   "source": [
    "# TRG - Getting name of company"
   ]
  },
  {
   "cell_type": "code",
   "execution_count": 145,
   "metadata": {},
   "outputs": [],
   "source": [
    "# тут я считываю имя второго слайда, и из него выцепляю имя компании."
   ]
  },
  {
   "cell_type": "code",
   "execution_count": 146,
   "metadata": {},
   "outputs": [
    {
     "data": {
      "text/html": [
       "<div>\n",
       "<style scoped>\n",
       "    .dataframe tbody tr th:only-of-type {\n",
       "        vertical-align: middle;\n",
       "    }\n",
       "\n",
       "    .dataframe tbody tr th {\n",
       "        vertical-align: top;\n",
       "    }\n",
       "\n",
       "    .dataframe thead th {\n",
       "        text-align: right;\n",
       "    }\n",
       "</style>\n",
       "<table border=\"1\" class=\"dataframe\">\n",
       "  <thead>\n",
       "    <tr style=\"text-align: right;\">\n",
       "      <th></th>\n",
       "      <th>Company name</th>\n",
       "      <th>Key</th>\n",
       "    </tr>\n",
       "  </thead>\n",
       "  <tbody>\n",
       "    <tr>\n",
       "      <th>0</th>\n",
       "      <td>Andrey Ravilyevich Bikchentay</td>\n",
       "      <td>1</td>\n",
       "    </tr>\n",
       "  </tbody>\n",
       "</table>\n",
       "</div>"
      ],
      "text/plain": [
       "                    Company name Key\n",
       "0  Andrey Ravilyevich Bikchentay   1"
      ]
     },
     "execution_count": 146,
     "metadata": {},
     "output_type": "execute_result"
    }
   ],
   "source": [
    "# TRG - Getting name of company\n",
    "i=0\n",
    "try:\n",
    "    for slide in prs.slides:\n",
    "        i=i+1\n",
    "        title = slide.shapes.title.text\n",
    "\n",
    "        if i==2:\n",
    "            name_of_company = title\n",
    "        else:\n",
    "            i=i\n",
    "except:\n",
    "    pass\n",
    "\n",
    "if name_of_company[:10] == 'A Limited ':\n",
    "    name_of_company = name_of_company[48:]\n",
    "if name_of_company[:5] == 'Отчет':\n",
    "    name_of_company = name_of_company[45:]\n",
    "else:\n",
    "    name_of_company = name_of_company[40:]\n",
    "d = {'Company name': name_of_company, 'Key': '1'}\n",
    "trg = pd.DataFrame([d], columns=d.keys())\n",
    "trg"
   ]
  },
  {
   "cell_type": "markdown",
   "metadata": {},
   "source": [
    "# dt"
   ]
  },
  {
   "cell_type": "code",
   "execution_count": 147,
   "metadata": {},
   "outputs": [],
   "source": [
    "# аналогично считываю дату"
   ]
  },
  {
   "cell_type": "code",
   "execution_count": 148,
   "metadata": {},
   "outputs": [
    {
     "data": {
      "text/html": [
       "<div>\n",
       "<style scoped>\n",
       "    .dataframe tbody tr th:only-of-type {\n",
       "        vertical-align: middle;\n",
       "    }\n",
       "\n",
       "    .dataframe tbody tr th {\n",
       "        vertical-align: top;\n",
       "    }\n",
       "\n",
       "    .dataframe thead th {\n",
       "        text-align: right;\n",
       "    }\n",
       "</style>\n",
       "<table border=\"1\" class=\"dataframe\">\n",
       "  <thead>\n",
       "    <tr style=\"text-align: right;\">\n",
       "      <th></th>\n",
       "      <th>Date</th>\n",
       "      <th>Key</th>\n",
       "    </tr>\n",
       "  </thead>\n",
       "  <tbody>\n",
       "    <tr>\n",
       "      <th>0</th>\n",
       "      <td>29 September 2011</td>\n",
       "      <td>1</td>\n",
       "    </tr>\n",
       "  </tbody>\n",
       "</table>\n",
       "</div>"
      ],
      "text/plain": [
       "                Date Key\n",
       "0  29 September 2011   1"
      ]
     },
     "execution_count": 148,
     "metadata": {},
     "output_type": "execute_result"
    }
   ],
   "source": [
    "i=0\n",
    "try:\n",
    "    for slide in prs.slides:\n",
    "        i=i+1\n",
    "        if i==1:\n",
    "            slide_date = slide\n",
    "        else:\n",
    "            i=i\n",
    "except:\n",
    "    pass\n",
    "\n",
    "i = 0\n",
    "for shape in slide_date.shapes:\n",
    "    i = i+1\n",
    "    if i==1:\n",
    "        dt_text = shape.text\n",
    "dt_text = dt_text.replace(trg['Company name'].values[0], '')\n",
    "dt_text = dt_text.replace('\\n','')\n",
    "dt_text\n",
    "\n",
    "d = {'Date': dt_text, 'Key': '1'}\n",
    "dt = pd.DataFrame([d], columns=d.keys())\n",
    "dt"
   ]
  },
  {
   "cell_type": "markdown",
   "metadata": {},
   "source": [
    "# List of slides"
   ]
  },
  {
   "cell_type": "code",
   "execution_count": 149,
   "metadata": {},
   "outputs": [],
   "source": [
    "# список слайдов, видим что в разных презентациях разные названия. отличаются наличием \\n и т.д. \n",
    "# для каждой вариации я сделал свой датафрейм"
   ]
  },
  {
   "cell_type": "code",
   "execution_count": 150,
   "metadata": {},
   "outputs": [
    {
     "data": {
      "text/plain": [
       "['A Client Acceptance Screening Report on',\n",
       " 'A Client Acceptance Screening Report on\\nAndrey Ravilyevich Bikchentay',\n",
       " 'Executive summary\\nKey findings',\n",
       " 'Corporate details',\n",
       " 'Sources']"
      ]
     },
     "execution_count": 150,
     "metadata": {},
     "output_type": "execute_result"
    }
   ],
   "source": [
    "list_of_slides = []\n",
    "i=0\n",
    "try:\n",
    "    for slide in prs.slides:\n",
    "        i=i+1\n",
    "        list_of_slides.append(slide.shapes.title.text)\n",
    "except:\n",
    "    pass\n",
    "list_of_slides"
   ]
  },
  {
   "cell_type": "markdown",
   "metadata": {},
   "source": [
    "# Corporate details"
   ]
  },
  {
   "cell_type": "code",
   "execution_count": 156,
   "metadata": {},
   "outputs": [],
   "source": [
    "# Я увидел три вариации названия данного слайда\n",
    "# Corporate details\n",
    "# Corporate details (1/2)\n",
    "# Corporate details (2/2)\n",
    "# Для каждого слайда создадим свой датафрейм а позже соединим в один"
   ]
  },
  {
   "cell_type": "markdown",
   "metadata": {},
   "source": [
    "#### Corporate details"
   ]
  },
  {
   "cell_type": "code",
   "execution_count": 157,
   "metadata": {},
   "outputs": [
    {
     "data": {
      "text/html": [
       "<div>\n",
       "<style scoped>\n",
       "    .dataframe tbody tr th:only-of-type {\n",
       "        vertical-align: middle;\n",
       "    }\n",
       "\n",
       "    .dataframe tbody tr th {\n",
       "        vertical-align: top;\n",
       "    }\n",
       "\n",
       "    .dataframe thead th {\n",
       "        text-align: right;\n",
       "    }\n",
       "</style>\n",
       "<table border=\"1\" class=\"dataframe\">\n",
       "  <thead>\n",
       "    <tr style=\"text-align: right;\">\n",
       "      <th></th>\n",
       "      <th>Key</th>\n",
       "      <th>Personal details</th>\n",
       "      <th>Career</th>\n",
       "      <th>Business interests</th>\n",
       "    </tr>\n",
       "  </thead>\n",
       "  <tbody>\n",
       "    <tr>\n",
       "      <th>0</th>\n",
       "      <td>1</td>\n",
       "      <td>Born on 10 June 1966, Andrey Ravilyevich Bikch...</td>\n",
       "      <td>Our review of the public domain revealed no hi...</td>\n",
       "      <td>The Russian official corporate records provide...</td>\n",
       "    </tr>\n",
       "  </tbody>\n",
       "</table>\n",
       "</div>"
      ],
      "text/plain": [
       "  Key                                   Personal details  \\\n",
       "0   1  Born on 10 June 1966, Andrey Ravilyevich Bikch...   \n",
       "\n",
       "                                              Career  \\\n",
       "0  Our review of the public domain revealed no hi...   \n",
       "\n",
       "                                  Business interests  \n",
       "0  The Russian official corporate records provide...  "
      ]
     },
     "execution_count": 157,
     "metadata": {},
     "output_type": "execute_result"
    }
   ],
   "source": [
    "i=0\n",
    "slide_x = 'Index_of'\n",
    "try:\n",
    "    for slide in prs.slides:\n",
    "        i=i+1\n",
    "        title = slide.shapes.title.text\n",
    "        if (title=='Corporate details'):\n",
    "            slide_x = slide\n",
    "        else:\n",
    "            i=i\n",
    "except:\n",
    "    pass\n",
    "d={}\n",
    "i=0\n",
    "try:\n",
    "    for shape in slide_x.shapes:\n",
    "        if shape.has_table:\n",
    "            d.update({'Key' : '1'})\n",
    "            d.update({shape.table.cell(0,0).text_frame.text : shape.table.cell(1,0).text_frame.text})\n",
    "        else:\n",
    "            i = i\n",
    "except:\n",
    "    pass\n",
    "df_c_d = pd.DataFrame([d], columns=d.keys())\n",
    "df_c_d"
   ]
  },
  {
   "cell_type": "markdown",
   "metadata": {},
   "source": [
    "#### Corporate details (1/2)"
   ]
  },
  {
   "cell_type": "code",
   "execution_count": 158,
   "metadata": {},
   "outputs": [
    {
     "data": {
      "text/html": [
       "<div>\n",
       "<style scoped>\n",
       "    .dataframe tbody tr th:only-of-type {\n",
       "        vertical-align: middle;\n",
       "    }\n",
       "\n",
       "    .dataframe tbody tr th {\n",
       "        vertical-align: top;\n",
       "    }\n",
       "\n",
       "    .dataframe thead th {\n",
       "        text-align: right;\n",
       "    }\n",
       "</style>\n",
       "<table border=\"1\" class=\"dataframe\">\n",
       "  <thead>\n",
       "    <tr style=\"text-align: right;\">\n",
       "      <th></th>\n",
       "    </tr>\n",
       "  </thead>\n",
       "  <tbody>\n",
       "    <tr>\n",
       "      <th>0</th>\n",
       "    </tr>\n",
       "  </tbody>\n",
       "</table>\n",
       "</div>"
      ],
      "text/plain": [
       "Empty DataFrame\n",
       "Columns: []\n",
       "Index: [0]"
      ]
     },
     "execution_count": 158,
     "metadata": {},
     "output_type": "execute_result"
    }
   ],
   "source": [
    "i=0\n",
    "slide_x = 'Index_of'\n",
    "try:\n",
    "    for slide in prs.slides:\n",
    "        i=i+1\n",
    "        title = slide.shapes.title.text\n",
    "        if (title=='Corporate details (1/2)'):\n",
    "            slide_x = slide\n",
    "        else:\n",
    "            i=i\n",
    "except:\n",
    "    pass\n",
    "d={}\n",
    "i=0\n",
    "try:\n",
    "    for shape in slide_x.shapes:\n",
    "        if shape.has_table:\n",
    "            d.update({'Key' : '1'})\n",
    "            d.update({shape.table.cell(0,0).text_frame.text : shape.table.cell(1,0).text_frame.text})\n",
    "        else:\n",
    "            i = i\n",
    "except:\n",
    "    pass\n",
    "df_c_d_1_2 = pd.DataFrame([d], columns=d.keys())\n",
    "df_c_d_1_2"
   ]
  },
  {
   "cell_type": "markdown",
   "metadata": {},
   "source": [
    "#### Corporate details (1/1)"
   ]
  },
  {
   "cell_type": "code",
   "execution_count": 159,
   "metadata": {},
   "outputs": [
    {
     "data": {
      "text/html": [
       "<div>\n",
       "<style scoped>\n",
       "    .dataframe tbody tr th:only-of-type {\n",
       "        vertical-align: middle;\n",
       "    }\n",
       "\n",
       "    .dataframe tbody tr th {\n",
       "        vertical-align: top;\n",
       "    }\n",
       "\n",
       "    .dataframe thead th {\n",
       "        text-align: right;\n",
       "    }\n",
       "</style>\n",
       "<table border=\"1\" class=\"dataframe\">\n",
       "  <thead>\n",
       "    <tr style=\"text-align: right;\">\n",
       "      <th></th>\n",
       "    </tr>\n",
       "  </thead>\n",
       "  <tbody>\n",
       "    <tr>\n",
       "      <th>0</th>\n",
       "    </tr>\n",
       "  </tbody>\n",
       "</table>\n",
       "</div>"
      ],
      "text/plain": [
       "Empty DataFrame\n",
       "Columns: []\n",
       "Index: [0]"
      ]
     },
     "execution_count": 159,
     "metadata": {},
     "output_type": "execute_result"
    }
   ],
   "source": [
    "i=0\n",
    "slide_x = 'Index_of'\n",
    "try:\n",
    "    for slide in prs.slides:\n",
    "        i=i+1\n",
    "        title = slide.shapes.title.text\n",
    "        if (title=='Corporate details (1/1)'):\n",
    "            slide_x = slide\n",
    "        else:\n",
    "            i=i\n",
    "except:\n",
    "    pass\n",
    "d={}\n",
    "i=0\n",
    "try:\n",
    "    for shape in slide_x.shapes:\n",
    "        if shape.has_table:\n",
    "            d.update({'Key' : '1'})\n",
    "            d.update({shape.table.cell(0,0).text_frame.text : shape.table.cell(1,0).text_frame.text})\n",
    "        else:\n",
    "            i = i\n",
    "except:\n",
    "    pass\n",
    "df_c_d_1_1 = pd.DataFrame([d], columns=d.keys())\n",
    "df_c_d_1_1"
   ]
  },
  {
   "cell_type": "markdown",
   "metadata": {},
   "source": [
    "#### Check empty df"
   ]
  },
  {
   "cell_type": "code",
   "execution_count": 160,
   "metadata": {},
   "outputs": [],
   "source": [
    "# в проверим все датасеты, пустые они или нет, если пустые, то добавим в них столбец Key со значением 1"
   ]
  },
  {
   "cell_type": "code",
   "execution_count": 161,
   "metadata": {},
   "outputs": [],
   "source": [
    "df_keys = pd.DataFrame(columns=['Key'])\n",
    "df_keys.loc[0] = '1'"
   ]
  },
  {
   "cell_type": "markdown",
   "metadata": {},
   "source": [
    "#### Create function"
   ]
  },
  {
   "cell_type": "code",
   "execution_count": 162,
   "metadata": {},
   "outputs": [],
   "source": [
    "def empty_df(df):\n",
    "    if df.empty is True:\n",
    "        df = df_keys\n",
    "    else:\n",
    "        df = df\n",
    "    return df"
   ]
  },
  {
   "cell_type": "markdown",
   "metadata": {},
   "source": [
    "#### Using created function"
   ]
  },
  {
   "cell_type": "code",
   "execution_count": 163,
   "metadata": {},
   "outputs": [],
   "source": [
    "df_c_d_1_1 = empty_df(df_c_d_1_1)\n",
    "df_c_d_1_2 = empty_df(df_c_d_1_2)\n",
    "df_c_d = empty_df(df_c_d)"
   ]
  },
  {
   "cell_type": "markdown",
   "metadata": {},
   "source": [
    "#### Merging"
   ]
  },
  {
   "cell_type": "code",
   "execution_count": 164,
   "metadata": {},
   "outputs": [],
   "source": [
    "# объединяем теперь все полученные датасеты"
   ]
  },
  {
   "cell_type": "code",
   "execution_count": 165,
   "metadata": {},
   "outputs": [
    {
     "data": {
      "text/html": [
       "<div>\n",
       "<style scoped>\n",
       "    .dataframe tbody tr th:only-of-type {\n",
       "        vertical-align: middle;\n",
       "    }\n",
       "\n",
       "    .dataframe tbody tr th {\n",
       "        vertical-align: top;\n",
       "    }\n",
       "\n",
       "    .dataframe thead th {\n",
       "        text-align: right;\n",
       "    }\n",
       "</style>\n",
       "<table border=\"1\" class=\"dataframe\">\n",
       "  <thead>\n",
       "    <tr style=\"text-align: right;\">\n",
       "      <th></th>\n",
       "      <th>Key</th>\n",
       "      <th>Personal details</th>\n",
       "      <th>Career</th>\n",
       "      <th>Business interests</th>\n",
       "    </tr>\n",
       "  </thead>\n",
       "  <tbody>\n",
       "    <tr>\n",
       "      <th>0</th>\n",
       "      <td>1</td>\n",
       "      <td>Born on 10 June 1966, Andrey Ravilyevich Bikch...</td>\n",
       "      <td>Our review of the public domain revealed no hi...</td>\n",
       "      <td>The Russian official corporate records provide...</td>\n",
       "    </tr>\n",
       "  </tbody>\n",
       "</table>\n",
       "</div>"
      ],
      "text/plain": [
       "  Key                                   Personal details  \\\n",
       "0   1  Born on 10 June 1966, Andrey Ravilyevich Bikch...   \n",
       "\n",
       "                                              Career  \\\n",
       "0  Our review of the public domain revealed no hi...   \n",
       "\n",
       "                                  Business interests  \n",
       "0  The Russian official corporate records provide...  "
      ]
     },
     "execution_count": 165,
     "metadata": {},
     "output_type": "execute_result"
    }
   ],
   "source": [
    "df_c_d_g = df_c_d_1_1.merge(df_c_d_1_2.merge(df_c_d))\n",
    "df_c_d_g"
   ]
  },
  {
   "cell_type": "markdown",
   "metadata": {},
   "source": [
    "#### Check columns"
   ]
  },
  {
   "cell_type": "code",
   "execution_count": 166,
   "metadata": {},
   "outputs": [],
   "source": [
    "# Если какого-то поля не будет , то в нем будет содержаться значение 'No_data'"
   ]
  },
  {
   "cell_type": "code",
   "execution_count": 167,
   "metadata": {},
   "outputs": [],
   "source": [
    "def column(df):\n",
    "    i=1\n",
    "    if 'Registration details' not in df.columns:\n",
    "        df['Registration details'] = 'No_data'\n",
    "    if 'Key individuals' not in df.columns:\n",
    "        df['Key individuals'] = 'No_data'\n",
    "    if 'Background' not in df.columns:\n",
    "        df['Background'] = 'No_data'\n",
    "    if 'Notes' not in df.columns:\n",
    "        df['Notes'] = 'No_data'\n",
    "    else:\n",
    "        i = i\n",
    "    return df[['Registration details','Key individuals','Background','Notes','Key']]"
   ]
  },
  {
   "cell_type": "code",
   "execution_count": 168,
   "metadata": {},
   "outputs": [
    {
     "data": {
      "text/html": [
       "<div>\n",
       "<style scoped>\n",
       "    .dataframe tbody tr th:only-of-type {\n",
       "        vertical-align: middle;\n",
       "    }\n",
       "\n",
       "    .dataframe tbody tr th {\n",
       "        vertical-align: top;\n",
       "    }\n",
       "\n",
       "    .dataframe thead th {\n",
       "        text-align: right;\n",
       "    }\n",
       "</style>\n",
       "<table border=\"1\" class=\"dataframe\">\n",
       "  <thead>\n",
       "    <tr style=\"text-align: right;\">\n",
       "      <th></th>\n",
       "      <th>Registration details</th>\n",
       "      <th>Key individuals</th>\n",
       "      <th>Background</th>\n",
       "      <th>Notes</th>\n",
       "      <th>Key</th>\n",
       "    </tr>\n",
       "  </thead>\n",
       "  <tbody>\n",
       "    <tr>\n",
       "      <th>0</th>\n",
       "      <td>No_data</td>\n",
       "      <td>No_data</td>\n",
       "      <td>No_data</td>\n",
       "      <td>No_data</td>\n",
       "      <td>1</td>\n",
       "    </tr>\n",
       "  </tbody>\n",
       "</table>\n",
       "</div>"
      ],
      "text/plain": [
       "  Registration details Key individuals Background    Notes Key\n",
       "0              No_data         No_data    No_data  No_data   1"
      ]
     },
     "execution_count": 168,
     "metadata": {},
     "output_type": "execute_result"
    }
   ],
   "source": [
    "df_c_d_g = column(df_c_d_g)\n",
    "df_c_d_g"
   ]
  },
  {
   "cell_type": "markdown",
   "metadata": {},
   "source": [
    "# Key findings"
   ]
  },
  {
   "cell_type": "markdown",
   "metadata": {},
   "source": [
    "### тут вариаций намного больше\n",
    "\n",
    "Key findings\n",
    "\n",
    "Executive summary\n",
    "\n",
    "Executive summary Key findings (1/2)\n",
    " \n",
    "Executive summary Key findings (2/2)\n",
    " \n",
    "Executive summary\\nKey findings\n",
    "\n",
    "## для каждого свой датасет"
   ]
  },
  {
   "cell_type": "code",
   "execution_count": 169,
   "metadata": {},
   "outputs": [
    {
     "data": {
      "text/plain": [
       "Index([], dtype='object')"
      ]
     },
     "execution_count": 169,
     "metadata": {},
     "output_type": "execute_result"
    }
   ],
   "source": [
    "i=0\n",
    "slide_x = 'Index_of'\n",
    "try:\n",
    "    for slide in prs.slides:\n",
    "        i=i+1\n",
    "        title = slide.shapes.title.text\n",
    "\n",
    "        if (title=='Key findings'):\n",
    "            slide_x = slide\n",
    "        else:\n",
    "            i=i\n",
    "        \n",
    "except:\n",
    "    pass\n",
    "d={}\n",
    "try:\n",
    "    for shape in slide_x.shapes:\n",
    "        if shape.has_table:\n",
    "            d.update({'Key' : '1'})\n",
    "            d.update({shape.table.cell(0,0).text_frame.text : shape.table.cell(0,1).text_frame.text})\n",
    "            d.update({shape.table.cell(1,0).text_frame.text : shape.table.cell(1,1).text_frame.text})\n",
    "            d.update({shape.table.cell(2,0).text_frame.text : shape.table.cell(2,1).text_frame.text})\n",
    "            d.update({shape.table.cell(3,0).text_frame.text : shape.table.cell(3,1).text_frame.text})\n",
    "            d.update({shape.table.cell(4,0).text_frame.text : shape.table.cell(4,1).text_frame.text})\n",
    "            d.update({shape.table.cell(5,0).text_frame.text : shape.table.cell(5,1).text_frame.text})\n",
    "            d.update({shape.table.cell(6,0).text_frame.text : shape.table.cell(6,1).text_frame.text})\n",
    "            d.update({shape.table.cell(7,0).text_frame.text : shape.table.cell(7,1).text_frame.text})\n",
    "            d.update({shape.table.cell(8,0).text_frame.text : shape.table.cell(8,1).text_frame.text})\n",
    "            d.update({shape.table.cell(9,0).text_frame.text : shape.table.cell(9,1).text_frame.text})\n",
    "            d.update({shape.table.cell(10,0).text_frame.text : shape.table.cell(10,1).text_frame.text})\n",
    "            d.update({shape.table.cell(11,0).text_frame.text : shape.table.cell(11,1).text_frame.text})\n",
    "            d.update({shape.table.cell(12,0).text_frame.text : shape.table.cell(12,1).text_frame.text})\n",
    "            d.update({shape.table.cell(13,0).text_frame.text : shape.table.cell(13,1).text_frame.text})\n",
    "        else:\n",
    "            i=i\n",
    "except:\n",
    "    pass\n",
    "df_k_f = pd.DataFrame([d], columns=d.keys())\n",
    "df_k_f.columns"
   ]
  },
  {
   "cell_type": "markdown",
   "metadata": {},
   "source": [
    "# Executive summary"
   ]
  },
  {
   "cell_type": "code",
   "execution_count": 170,
   "metadata": {},
   "outputs": [
    {
     "data": {
      "text/html": [
       "<div>\n",
       "<style scoped>\n",
       "    .dataframe tbody tr th:only-of-type {\n",
       "        vertical-align: middle;\n",
       "    }\n",
       "\n",
       "    .dataframe tbody tr th {\n",
       "        vertical-align: top;\n",
       "    }\n",
       "\n",
       "    .dataframe thead th {\n",
       "        text-align: right;\n",
       "    }\n",
       "</style>\n",
       "<table border=\"1\" class=\"dataframe\">\n",
       "  <thead>\n",
       "    <tr style=\"text-align: right;\">\n",
       "      <th></th>\n",
       "    </tr>\n",
       "  </thead>\n",
       "  <tbody>\n",
       "    <tr>\n",
       "      <th>0</th>\n",
       "    </tr>\n",
       "  </tbody>\n",
       "</table>\n",
       "</div>"
      ],
      "text/plain": [
       "Empty DataFrame\n",
       "Columns: []\n",
       "Index: [0]"
      ]
     },
     "execution_count": 170,
     "metadata": {},
     "output_type": "execute_result"
    }
   ],
   "source": [
    "i=0\n",
    "slide_x = 'Index_of'\n",
    "try:\n",
    "    for slide in prs.slides:\n",
    "        i=i+1\n",
    "        title = slide.shapes.title.text\n",
    "\n",
    "        if (title=='Executive summary'):\n",
    "            slide_x = slide\n",
    "        else:\n",
    "            i=i\n",
    "        \n",
    "except:\n",
    "    pass\n",
    "d={}\n",
    "try:\n",
    "    for shape in slide_x.shapes:\n",
    "        if shape.has_table:\n",
    "            d.update({'Key' : '1'})\n",
    "            d.update({shape.table.cell(0,0).text_frame.text : shape.table.cell(0,1).text_frame.text})\n",
    "            d.update({shape.table.cell(1,0).text_frame.text : shape.table.cell(1,1).text_frame.text})\n",
    "            d.update({shape.table.cell(2,0).text_frame.text : shape.table.cell(2,1).text_frame.text})\n",
    "            d.update({shape.table.cell(3,0).text_frame.text : shape.table.cell(3,1).text_frame.text})\n",
    "            d.update({shape.table.cell(4,0).text_frame.text : shape.table.cell(4,1).text_frame.text})\n",
    "            d.update({shape.table.cell(5,0).text_frame.text : shape.table.cell(5,1).text_frame.text})\n",
    "            d.update({shape.table.cell(6,0).text_frame.text : shape.table.cell(6,1).text_frame.text})\n",
    "            d.update({shape.table.cell(7,0).text_frame.text : shape.table.cell(7,1).text_frame.text})\n",
    "            d.update({shape.table.cell(8,0).text_frame.text : shape.table.cell(8,1).text_frame.text})\n",
    "            d.update({shape.table.cell(9,0).text_frame.text : shape.table.cell(9,1).text_frame.text})\n",
    "            d.update({shape.table.cell(10,0).text_frame.text : shape.table.cell(10,1).text_frame.text})\n",
    "            d.update({shape.table.cell(11,0).text_frame.text : shape.table.cell(11,1).text_frame.text})\n",
    "            d.update({shape.table.cell(12,0).text_frame.text : shape.table.cell(12,1).text_frame.text})\n",
    "            d.update({shape.table.cell(13,0).text_frame.text : shape.table.cell(13,1).text_frame.text})\n",
    "        else:\n",
    "            i=i\n",
    "except:\n",
    "    pass\n",
    "df_e_s = pd.DataFrame([d], columns=d.keys())\n",
    "df_e_s"
   ]
  },
  {
   "cell_type": "markdown",
   "metadata": {},
   "source": [
    "# Executive summary Key findings (1/2)"
   ]
  },
  {
   "cell_type": "code",
   "execution_count": 171,
   "metadata": {},
   "outputs": [
    {
     "data": {
      "text/html": [
       "<div>\n",
       "<style scoped>\n",
       "    .dataframe tbody tr th:only-of-type {\n",
       "        vertical-align: middle;\n",
       "    }\n",
       "\n",
       "    .dataframe tbody tr th {\n",
       "        vertical-align: top;\n",
       "    }\n",
       "\n",
       "    .dataframe thead th {\n",
       "        text-align: right;\n",
       "    }\n",
       "</style>\n",
       "<table border=\"1\" class=\"dataframe\">\n",
       "  <thead>\n",
       "    <tr style=\"text-align: right;\">\n",
       "      <th></th>\n",
       "    </tr>\n",
       "  </thead>\n",
       "  <tbody>\n",
       "    <tr>\n",
       "      <th>0</th>\n",
       "    </tr>\n",
       "  </tbody>\n",
       "</table>\n",
       "</div>"
      ],
      "text/plain": [
       "Empty DataFrame\n",
       "Columns: []\n",
       "Index: [0]"
      ]
     },
     "execution_count": 171,
     "metadata": {},
     "output_type": "execute_result"
    }
   ],
   "source": [
    "i=0\n",
    "slide_x = 'Index_of'\n",
    "try:\n",
    "    for slide in prs.slides:\n",
    "        i=i+1\n",
    "        title = slide.shapes.title.text\n",
    "\n",
    "        if (title=='Executive summary\\nKey findings (1/2)'):\n",
    "            slide_x = slide\n",
    "        else:\n",
    "            i=i\n",
    "        \n",
    "except:\n",
    "    pass\n",
    "d={}\n",
    "try:\n",
    "    for slide in slide_array:\n",
    "        if shape.has_table:\n",
    "            d.update({'Key' : '1'})\n",
    "            d.update({shape.table.cell(0,0).text_frame.text : shape.table.cell(0,1).text_frame.text})\n",
    "            d.update({shape.table.cell(1,0).text_frame.text : shape.table.cell(1,1).text_frame.text})\n",
    "            d.update({shape.table.cell(2,0).text_frame.text : shape.table.cell(2,1).text_frame.text})\n",
    "            d.update({shape.table.cell(3,0).text_frame.text : shape.table.cell(3,1).text_frame.text})\n",
    "            d.update({shape.table.cell(4,0).text_frame.text : shape.table.cell(4,1).text_frame.text})\n",
    "            d.update({shape.table.cell(5,0).text_frame.text : shape.table.cell(5,1).text_frame.text})\n",
    "            d.update({shape.table.cell(6,0).text_frame.text : shape.table.cell(6,1).text_frame.text})\n",
    "            d.update({shape.table.cell(7,0).text_frame.text : shape.table.cell(7,1).text_frame.text})\n",
    "            d.update({shape.table.cell(8,0).text_frame.text : shape.table.cell(8,1).text_frame.text})\n",
    "            d.update({shape.table.cell(9,0).text_frame.text : shape.table.cell(9,1).text_frame.text})\n",
    "            d.update({shape.table.cell(10,0).text_frame.text : shape.table.cell(10,1).text_frame.text})\n",
    "            d.update({shape.table.cell(11,0).text_frame.text : shape.table.cell(11,1).text_frame.text})\n",
    "            d.update({shape.table.cell(12,0).text_frame.text : shape.table.cell(12,1).text_frame.text})\n",
    "            d.update({shape.table.cell(13,0).text_frame.text : shape.table.cell(13,1).text_frame.text})\n",
    "        else:\n",
    "            i=i\n",
    "except:\n",
    "    pass\n",
    "df_e_s_k_f_1_2 = pd.DataFrame([d], columns=d.keys())\n",
    "df_e_s_k_f_1_2"
   ]
  },
  {
   "cell_type": "markdown",
   "metadata": {},
   "source": [
    "# Executive summary Key findings (2/2)"
   ]
  },
  {
   "cell_type": "code",
   "execution_count": 172,
   "metadata": {},
   "outputs": [],
   "source": [
    "i=0\n",
    "slide_x = 'Index_of'\n",
    "try:\n",
    "    for slide in prs.slides:\n",
    "        i=i+1\n",
    "        title = slide.shapes.title.text\n",
    "\n",
    "        if (title=='Executive summary\\nKey findings (2/2)'):\n",
    "            slide_x = slide\n",
    "        else:\n",
    "            i=i\n",
    "        \n",
    "except:\n",
    "    pass\n",
    "d={}\n",
    "try:\n",
    "    for shape in slide_x.shapes:\n",
    "        if shape.has_table:\n",
    "            d.update({'Key' : '1'})\n",
    "            d.update({shape.table.cell(0,0).text_frame.text : shape.table.cell(0,1).text_frame.text})\n",
    "            d.update({shape.table.cell(1,0).text_frame.text : shape.table.cell(1,1).text_frame.text})\n",
    "            d.update({shape.table.cell(2,0).text_frame.text : shape.table.cell(2,1).text_frame.text})\n",
    "            d.update({shape.table.cell(3,0).text_frame.text : shape.table.cell(3,1).text_frame.text})\n",
    "            d.update({shape.table.cell(4,0).text_frame.text : shape.table.cell(4,1).text_frame.text})\n",
    "            d.update({shape.table.cell(5,0).text_frame.text : shape.table.cell(5,1).text_frame.text})\n",
    "            d.update({shape.table.cell(6,0).text_frame.text : shape.table.cell(6,1).text_frame.text})\n",
    "            d.update({shape.table.cell(7,0).text_frame.text : shape.table.cell(7,1).text_frame.text})\n",
    "            d.update({shape.table.cell(8,0).text_frame.text : shape.table.cell(8,1).text_frame.text})\n",
    "            d.update({shape.table.cell(9,0).text_frame.text : shape.table.cell(9,1).text_frame.text})\n",
    "            d.update({shape.table.cell(10,0).text_frame.text : shape.table.cell(10,1).text_frame.text})\n",
    "            d.update({shape.table.cell(11,0).text_frame.text : shape.table.cell(11,1).text_frame.text})\n",
    "            d.update({shape.table.cell(12,0).text_frame.text : shape.table.cell(12,1).text_frame.text})\n",
    "            d.update({shape.table.cell(13,0).text_frame.text : shape.table.cell(13,1).text_frame.text})\n",
    "        else:\n",
    "            i=i\n",
    "except:\n",
    "    pass\n",
    "df_e_s_k_f_2_2 = pd.DataFrame([d], columns=d.keys())"
   ]
  },
  {
   "cell_type": "markdown",
   "metadata": {},
   "source": [
    "# Executive summary\\nKey findings"
   ]
  },
  {
   "cell_type": "code",
   "execution_count": 137,
   "metadata": {},
   "outputs": [
    {
     "data": {
      "text/html": [
       "<div>\n",
       "<style scoped>\n",
       "    .dataframe tbody tr th:only-of-type {\n",
       "        vertical-align: middle;\n",
       "    }\n",
       "\n",
       "    .dataframe tbody tr th {\n",
       "        vertical-align: top;\n",
       "    }\n",
       "\n",
       "    .dataframe thead th {\n",
       "        text-align: right;\n",
       "    }\n",
       "</style>\n",
       "<table border=\"1\" class=\"dataframe\">\n",
       "  <thead>\n",
       "    <tr style=\"text-align: right;\">\n",
       "      <th></th>\n",
       "      <th>Key</th>\n",
       "      <th>Affiliation with criminal or controversial individuals</th>\n",
       "      <th>Allegations of bribery</th>\n",
       "      <th>Allegations of money laundering/black cash</th>\n",
       "      <th>Regulatory enquiries/ criminal convictions</th>\n",
       "      <th>International blacklist search result</th>\n",
       "      <th>Party to court arbitration or litigations</th>\n",
       "      <th>Affiliation with Politically Exposed Persons</th>\n",
       "      <th>Corporate affairs</th>\n",
       "      <th>Business relations</th>\n",
       "      <th>Other issues</th>\n",
       "    </tr>\n",
       "  </thead>\n",
       "  <tbody>\n",
       "    <tr>\n",
       "      <th>0</th>\n",
       "      <td>1</td>\n",
       "      <td>No reports found</td>\n",
       "      <td>No reports found\\n</td>\n",
       "      <td>No reports found\\n</td>\n",
       "      <td>No reports found</td>\n",
       "      <td>No negative reports found</td>\n",
       "      <td>The archives of litigation records available o...</td>\n",
       "      <td>No reports found</td>\n",
       "      <td>No negative reports found\\n</td>\n",
       "      <td>No negative reports found\\n</td>\n",
       "      <td>No other areas of concern identified\\n</td>\n",
       "    </tr>\n",
       "  </tbody>\n",
       "</table>\n",
       "</div>"
      ],
      "text/plain": [
       "  Key Affiliation with criminal or controversial individuals  \\\n",
       "0   1                                   No reports found       \n",
       "\n",
       "  Allegations of bribery\\n Allegations of money laundering/black cash  \\\n",
       "0       No reports found\\n                         No reports found\\n   \n",
       "\n",
       "  Regulatory enquiries/ criminal convictions  \\\n",
       "0                           No reports found   \n",
       "\n",
       "  International blacklist search result  \\\n",
       "0             No negative reports found   \n",
       "\n",
       "           Party to court arbitration or litigations  \\\n",
       "0  The archives of litigation records available o...   \n",
       "\n",
       "  Affiliation with Politically Exposed Persons          Corporate affairs\\n  \\\n",
       "0                             No reports found  No negative reports found\\n   \n",
       "\n",
       "          Business relations\\n                          Other issues\\n  \n",
       "0  No negative reports found\\n  No other areas of concern identified\\n  "
      ]
     },
     "execution_count": 137,
     "metadata": {},
     "output_type": "execute_result"
    }
   ],
   "source": [
    "i=0\n",
    "slide_x = 'Index_of'\n",
    "try:\n",
    "    for slide in prs.slides:\n",
    "        i=i+1\n",
    "        title = slide.shapes.title.text\n",
    "\n",
    "        if (title=='Executive summary\\nKey findings'):\n",
    "            slide_x = slide\n",
    "        else:\n",
    "            i=i\n",
    "        \n",
    "except:\n",
    "    pass\n",
    "d={}\n",
    "try:\n",
    "    for shape in slide_x.shapes:\n",
    "        if shape.has_table:\n",
    "            d.update({'Key' : '1'})\n",
    "            d.update({shape.table.cell(0,0).text_frame.text : shape.table.cell(0,1).text_frame.text})\n",
    "            d.update({shape.table.cell(1,0).text_frame.text : shape.table.cell(1,1).text_frame.text})\n",
    "            d.update({shape.table.cell(2,0).text_frame.text : shape.table.cell(2,1).text_frame.text})\n",
    "            d.update({shape.table.cell(3,0).text_frame.text : shape.table.cell(3,1).text_frame.text})\n",
    "            d.update({shape.table.cell(4,0).text_frame.text : shape.table.cell(4,1).text_frame.text})\n",
    "            d.update({shape.table.cell(5,0).text_frame.text : shape.table.cell(5,1).text_frame.text})\n",
    "            d.update({shape.table.cell(6,0).text_frame.text : shape.table.cell(6,1).text_frame.text})\n",
    "            d.update({shape.table.cell(7,0).text_frame.text : shape.table.cell(7,1).text_frame.text})\n",
    "            d.update({shape.table.cell(8,0).text_frame.text : shape.table.cell(8,1).text_frame.text})\n",
    "            d.update({shape.table.cell(9,0).text_frame.text : shape.table.cell(9,1).text_frame.text})\n",
    "            d.update({shape.table.cell(10,0).text_frame.text : shape.table.cell(10,1).text_frame.text})\n",
    "            d.update({shape.table.cell(11,0).text_frame.text : shape.table.cell(11,1).text_frame.text})\n",
    "            d.update({shape.table.cell(12,0).text_frame.text : shape.table.cell(12,1).text_frame.text})\n",
    "            d.update({shape.table.cell(13,0).text_frame.text : shape.table.cell(13,1).text_frame.text})\n",
    "        else:\n",
    "            i=i\n",
    "except:\n",
    "    pass\n",
    "df_e_s_n_k_f = pd.DataFrame([d], columns=d.keys())\n",
    "df_e_s_n_k_f"
   ]
  },
  {
   "cell_type": "markdown",
   "metadata": {},
   "source": [
    "# А теперь все объединим"
   ]
  },
  {
   "cell_type": "code",
   "execution_count": 173,
   "metadata": {},
   "outputs": [
    {
     "data": {
      "text/plain": [
       "Index(['Key', 'Affiliation with criminal or controversial individuals',\n",
       "       'Allegations of bribery\\n',\n",
       "       'Allegations of money laundering/black cash',\n",
       "       'Regulatory enquiries/ criminal convictions',\n",
       "       'International blacklist search result',\n",
       "       'Party to court arbitration or litigations',\n",
       "       'Affiliation with Politically Exposed Persons', 'Corporate affairs\\n',\n",
       "       'Business relations\\n', 'Other issues\\n'],\n",
       "      dtype='object')"
      ]
     },
     "execution_count": 173,
     "metadata": {},
     "output_type": "execute_result"
    }
   ],
   "source": [
    "df_e_s = empty_df(df_e_s)\n",
    "df_k_f = empty_df(df_k_f)\n",
    "df_e_s_k_f_1_2 = empty_df(df_e_s_k_f_1_2)\n",
    "df_e_s_k_f_2_2 = empty_df(df_e_s_k_f_2_2)\n",
    "df_e_s_n_k_f = empty_df(df_e_s_n_k_f)\n",
    "df_e_s_k_f_g = df_e_s.merge(df_e_s_k_f_1_2.merge(df_e_s_k_f_2_2.merge(df_k_f.merge(df_e_s_n_k_f))))\n",
    "df_e_s_k_f_g.columns"
   ]
  },
  {
   "cell_type": "markdown",
   "metadata": {},
   "source": [
    "# Columns editing"
   ]
  },
  {
   "cell_type": "markdown",
   "metadata": {},
   "source": [
    "#### столбцы писались криво и от руки, где-то пробел лишний, где-то буква в верхнем регистре и т.д. поэтому я убрал лишние пробелы , а также привел все к нижнему регистру, убрал лишние переход к новой строке"
   ]
  },
  {
   "cell_type": "code",
   "execution_count": 174,
   "metadata": {},
   "outputs": [],
   "source": [
    "#\\n\n",
    "df_e_s_k_f_g.columns = pd.Index(map(lambda x : str(x).replace('\\n',''), df_e_s_k_f_g.columns))\n",
    "#' '\n",
    "df_e_s_k_f_g.columns = pd.Index(map(lambda x : str(x).replace(' ',''), df_e_s_k_f_g.columns))\n",
    "# lower\n",
    "df_e_s_k_f_g.columns = pd.Index(map(lambda x : str(x).lower(), df_e_s_k_f_g.columns))\n",
    "#Affiliationwithcriminalorcontroversialindividuals\n",
    "df_e_s_k_f_g.columns = pd.Index(map(lambda x : str(x).replace('affiliationwithcriminalorcontroversialindividuals','affiliationtocriminalorcontroversialindividuals'),df_e_s_k_f_g.columns))\n",
    "#Affiliationwithcriminalorcontroversialindividuals\n",
    "df_e_s_k_f_g.columns = pd.Index(map(lambda x : str(x).replace('affiliationwithpoliticallyexposedpersons','affiliationtopoliticallyexposedpersons'),df_e_s_k_f_g.columns))"
   ]
  },
  {
   "cell_type": "markdown",
   "metadata": {},
   "source": [
    "# Check columns"
   ]
  },
  {
   "cell_type": "code",
   "execution_count": 175,
   "metadata": {},
   "outputs": [],
   "source": [
    "def column_e_s(df):\n",
    "    \n",
    "    i=1\n",
    "    \n",
    "    if 'affiliationtocriminalorcontroversialindividuals' not in df.columns:\n",
    "        df['affiliationtocriminalorcontroversialindividuals'] = 'No_data'\n",
    "        \n",
    "    if ('allegationsofbribery' not in df.columns):\n",
    "        df['allegationsofbribery'] = 'No_data'\n",
    "        \n",
    "    if 'allegationsofmoneylaundering/blackcash' not in df.columns:\n",
    "        df['allegationsofmoneylaundering/blackcash'] = 'No_data'\n",
    "        \n",
    "    if 'regulatoryenquiries/criminalconvictions' not in df.columns:\n",
    "        df['regulatoryenquiries/criminalconvictions'] = 'No_data'\n",
    "        \n",
    "    if 'internationalblacklistsearchresult' not in df.columns:\n",
    "        df['internationalblacklistsearchresult'] = 'No_data'\n",
    "        \n",
    "    if 'partytocourtarbitrationorlitigations' not in df.columns:\n",
    "        df['partytocourtarbitrationorlitigations'] = 'No_data'\n",
    "        \n",
    "    if 'disputeswithauthorities' not in df.columns:\n",
    "        df['disputeswithauthorities'] = 'No_data'\n",
    "        \n",
    "    if 'affiliationtopoliticallyexposedpersons' not in df.columns:\n",
    "        df['affiliationtopoliticallyexposedpersons'] = 'No_data'\n",
    "        \n",
    "    if 'stateinvolvementasshareholder' not in df.columns:\n",
    "        df['stateinvolvementasshareholder'] = 'No_data'\n",
    "        \n",
    "    if 'listedonstockexchanges' not in df.columns:\n",
    "        df['listedonstockexchanges'] = 'No_data'\n",
    "        \n",
    "    if 'opaqueshareholdingstructure' not in df.columns:\n",
    "        df['opaqueshareholdingstructure'] = 'No_data'\n",
    "        \n",
    "    if 'corporateaffairs' not in df.columns:\n",
    "        df['corporateaffairs'] = 'No_data'\n",
    "        \n",
    "    if 'businessrelations' not in df.columns:\n",
    "        df['Business relations'] = 'No_data'\n",
    "\n",
    "    if 'otherissues' not in df.columns:\n",
    "        df['otherissues'] = 'No_data'\n",
    "        \n",
    "    else:\n",
    "        i = i\n",
    "    return df[['key', \n",
    "               'affiliationtocriminalorcontroversialindividuals',\n",
    "               'allegationsofbribery',\n",
    "               'allegationsofmoneylaundering/blackcash',\n",
    "               'regulatoryenquiries/criminalconvictions',\n",
    "               'internationalblacklistsearchresult',\n",
    "               'partytocourtarbitrationorlitigations',\n",
    "               'disputeswithauthorities',\n",
    "               'affiliationtopoliticallyexposedpersons',\n",
    "               'stateinvolvementasshareholder',\n",
    "               'listedonstockexchanges',\n",
    "               'opaqueshareholdingstructure',\n",
    "               'corporateaffairs',\n",
    "               'businessrelations', \n",
    "               'otherissues']]"
   ]
  },
  {
   "cell_type": "code",
   "execution_count": 176,
   "metadata": {
    "scrolled": true
   },
   "outputs": [
    {
     "data": {
      "text/html": [
       "<div>\n",
       "<style scoped>\n",
       "    .dataframe tbody tr th:only-of-type {\n",
       "        vertical-align: middle;\n",
       "    }\n",
       "\n",
       "    .dataframe tbody tr th {\n",
       "        vertical-align: top;\n",
       "    }\n",
       "\n",
       "    .dataframe thead th {\n",
       "        text-align: right;\n",
       "    }\n",
       "</style>\n",
       "<table border=\"1\" class=\"dataframe\">\n",
       "  <thead>\n",
       "    <tr style=\"text-align: right;\">\n",
       "      <th></th>\n",
       "      <th>key</th>\n",
       "      <th>affiliationtocriminalorcontroversialindividuals</th>\n",
       "      <th>allegationsofbribery</th>\n",
       "      <th>allegationsofmoneylaundering/blackcash</th>\n",
       "      <th>regulatoryenquiries/criminalconvictions</th>\n",
       "      <th>internationalblacklistsearchresult</th>\n",
       "      <th>partytocourtarbitrationorlitigations</th>\n",
       "      <th>disputeswithauthorities</th>\n",
       "      <th>affiliationtopoliticallyexposedpersons</th>\n",
       "      <th>stateinvolvementasshareholder</th>\n",
       "      <th>listedonstockexchanges</th>\n",
       "      <th>opaqueshareholdingstructure</th>\n",
       "      <th>corporateaffairs</th>\n",
       "      <th>businessrelations</th>\n",
       "      <th>otherissues</th>\n",
       "    </tr>\n",
       "  </thead>\n",
       "  <tbody>\n",
       "    <tr>\n",
       "      <th>0</th>\n",
       "      <td>1</td>\n",
       "      <td>No reports found</td>\n",
       "      <td>No reports found\\n</td>\n",
       "      <td>No reports found\\n</td>\n",
       "      <td>No reports found</td>\n",
       "      <td>No negative reports found</td>\n",
       "      <td>The archives of litigation records available o...</td>\n",
       "      <td>No_data</td>\n",
       "      <td>No reports found</td>\n",
       "      <td>No_data</td>\n",
       "      <td>No_data</td>\n",
       "      <td>No_data</td>\n",
       "      <td>No negative reports found\\n</td>\n",
       "      <td>No negative reports found\\n</td>\n",
       "      <td>No other areas of concern identified\\n</td>\n",
       "    </tr>\n",
       "  </tbody>\n",
       "</table>\n",
       "</div>"
      ],
      "text/plain": [
       "  key affiliationtocriminalorcontroversialindividuals allegationsofbribery  \\\n",
       "0   1                                No reports found   No reports found\\n   \n",
       "\n",
       "  allegationsofmoneylaundering/blackcash  \\\n",
       "0                     No reports found\\n   \n",
       "\n",
       "  regulatoryenquiries/criminalconvictions internationalblacklistsearchresult  \\\n",
       "0                        No reports found          No negative reports found   \n",
       "\n",
       "                partytocourtarbitrationorlitigations disputeswithauthorities  \\\n",
       "0  The archives of litigation records available o...                 No_data   \n",
       "\n",
       "  affiliationtopoliticallyexposedpersons stateinvolvementasshareholder  \\\n",
       "0                       No reports found                       No_data   \n",
       "\n",
       "  listedonstockexchanges opaqueshareholdingstructure  \\\n",
       "0                No_data                     No_data   \n",
       "\n",
       "              corporateaffairs            businessrelations  \\\n",
       "0  No negative reports found\\n  No negative reports found\\n   \n",
       "\n",
       "                              otherissues  \n",
       "0  No other areas of concern identified\\n  "
      ]
     },
     "execution_count": 176,
     "metadata": {},
     "output_type": "execute_result"
    }
   ],
   "source": [
    "df_e_s_k_f_g = column_e_s(df_e_s_k_f_g)\n",
    "df_e_s_k_f_g"
   ]
  },
  {
   "cell_type": "code",
   "execution_count": 177,
   "metadata": {},
   "outputs": [
    {
     "data": {
      "text/plain": [
       "Index(['Key', 'affiliationtocriminalorcontroversialindividuals',\n",
       "       'allegationsofbribery', 'allegationsofmoneylaundering/blackcash',\n",
       "       'regulatoryenquiries/criminalconvictions',\n",
       "       'internationalblacklistsearchresult',\n",
       "       'partytocourtarbitrationorlitigations', 'disputeswithauthorities',\n",
       "       'affiliationtopoliticallyexposedpersons',\n",
       "       'stateinvolvementasshareholder', 'listedonstockexchanges',\n",
       "       'opaqueshareholdingstructure', 'corporateaffairs', 'businessrelations',\n",
       "       'otherissues'],\n",
       "      dtype='object')"
      ]
     },
     "execution_count": 177,
     "metadata": {},
     "output_type": "execute_result"
    }
   ],
   "source": [
    "# key\n",
    "df_e_s_k_f_g.columns = pd.Index(map(lambda x : str(x).replace('key','Key'),df_e_s_k_f_g.columns))\n",
    "df_e_s_k_f_g.columns"
   ]
  },
  {
   "cell_type": "markdown",
   "metadata": {},
   "source": [
    "# Sources"
   ]
  },
  {
   "cell_type": "markdown",
   "metadata": {},
   "source": [
    "### тут три вариации\n",
    "\n",
    "##### Sources\n",
    "\n",
    "##### Sources (1/2)\n",
    "\n",
    "##### Sources (2/2)"
   ]
  },
  {
   "cell_type": "markdown",
   "metadata": {},
   "source": [
    "#### Sources"
   ]
  },
  {
   "cell_type": "code",
   "execution_count": 179,
   "metadata": {},
   "outputs": [
    {
     "name": "stdout",
     "output_type": "stream",
     "text": [
      "No_Empty\n"
     ]
    }
   ],
   "source": [
    "i=0\n",
    "slide_x = 'Index_of'\n",
    "try:\n",
    "    for slide in prs.slides:\n",
    "        \n",
    "        i=i+1\n",
    "        title = slide.shapes.title.text\n",
    "        if (title=='Sources'):\n",
    "            slide_x = slide\n",
    "        else:\n",
    "            i=i\n",
    "except:\n",
    "    pass\n",
    "\n",
    "i = 0\n",
    "try:\n",
    "    for shape in slide_x.shapes:\n",
    "        i = i+1\n",
    "        if i==2:\n",
    "            sources = shape.text\n",
    "    df_sources = pd.DataFrame({'Sources': sources.split('\\n')})\n",
    "    df_sources['Company Name'] = name_of_company\n",
    "except:\n",
    "    pass\n",
    "\n",
    "# Ensure variable is defined\n",
    "try:\n",
    "    df_sources\n",
    "except NameError:\n",
    "    df_sources = None\n",
    "\n",
    "# Test whether variable is defined to be None\n",
    "if df_sources is None:\n",
    "    print('Empty')\n",
    "    df_sources = pd.DataFrame(columns=['Sources','Company Name'])\n",
    "    df_sources['Company Name'] = name_of_company\n",
    "else:\n",
    "    print('No_Empty')\n",
    "    df_sources = df_sources"
   ]
  },
  {
   "cell_type": "markdown",
   "metadata": {},
   "source": [
    "#### Sources (1/2)"
   ]
  },
  {
   "cell_type": "code",
   "execution_count": 180,
   "metadata": {},
   "outputs": [
    {
     "name": "stdout",
     "output_type": "stream",
     "text": [
      "No_Empty\n"
     ]
    },
    {
     "data": {
      "text/html": [
       "<div>\n",
       "<style scoped>\n",
       "    .dataframe tbody tr th:only-of-type {\n",
       "        vertical-align: middle;\n",
       "    }\n",
       "\n",
       "    .dataframe tbody tr th {\n",
       "        vertical-align: top;\n",
       "    }\n",
       "\n",
       "    .dataframe thead th {\n",
       "        text-align: right;\n",
       "    }\n",
       "</style>\n",
       "<table border=\"1\" class=\"dataframe\">\n",
       "  <thead>\n",
       "    <tr style=\"text-align: right;\">\n",
       "      <th></th>\n",
       "      <th>Sources</th>\n",
       "      <th>Company Name</th>\n",
       "    </tr>\n",
       "  </thead>\n",
       "  <tbody>\n",
       "  </tbody>\n",
       "</table>\n",
       "</div>"
      ],
      "text/plain": [
       "Empty DataFrame\n",
       "Columns: [Sources, Company Name]\n",
       "Index: []"
      ]
     },
     "execution_count": 180,
     "metadata": {},
     "output_type": "execute_result"
    }
   ],
   "source": [
    "    i=0\n",
    "    slide_x = 'Index_of'\n",
    "    try:\n",
    "        for slide in prs.slides:\n",
    "            \n",
    "            i=i+1\n",
    "            title = slide.shapes.title.text\n",
    "            if (title=='Sources (1/2)'):\n",
    "                slide_x = slide\n",
    "            else:\n",
    "                i=i\n",
    "    except:\n",
    "        pass\n",
    "    \n",
    "    i = 0\n",
    "    try:\n",
    "        for shape in slide_x.shapes:\n",
    "            i = i+1\n",
    "            if i==2:\n",
    "                sources = shape.text\n",
    "        df_sources_1_2 = pd.DataFrame({'Sources': sources.split('\\n')})\n",
    "        df_sources_1_2['Company Name'] = name_of_company\n",
    "    except:\n",
    "        pass\n",
    "    \n",
    "    # Ensure variable is defined\n",
    "    try:\n",
    "        df_sources_1_2\n",
    "    except NameError:\n",
    "        df_sources_1_2 = None\n",
    "    \n",
    "    # Test whether variable is defined to be None\n",
    "    if df_sources_1_2 is None:\n",
    "        print('Empty')\n",
    "        df_sources_1_2 = pd.DataFrame(columns=['Sources','Company Name'])\n",
    "        df_sources_1_2['Company Name'] = name_of_company\n",
    "    else:\n",
    "        print('No_Empty')\n",
    "        df_sources_1_2 = df_sources_1_2\n",
    "    df_sources_1_2"
   ]
  },
  {
   "cell_type": "code",
   "execution_count": 181,
   "metadata": {},
   "outputs": [
    {
     "data": {
      "text/html": [
       "<div>\n",
       "<style scoped>\n",
       "    .dataframe tbody tr th:only-of-type {\n",
       "        vertical-align: middle;\n",
       "    }\n",
       "\n",
       "    .dataframe tbody tr th {\n",
       "        vertical-align: top;\n",
       "    }\n",
       "\n",
       "    .dataframe thead th {\n",
       "        text-align: right;\n",
       "    }\n",
       "</style>\n",
       "<table border=\"1\" class=\"dataframe\">\n",
       "  <thead>\n",
       "    <tr style=\"text-align: right;\">\n",
       "      <th></th>\n",
       "      <th>Sources</th>\n",
       "      <th>Company Name</th>\n",
       "    </tr>\n",
       "  </thead>\n",
       "  <tbody>\n",
       "  </tbody>\n",
       "</table>\n",
       "</div>"
      ],
      "text/plain": [
       "Empty DataFrame\n",
       "Columns: [Sources, Company Name]\n",
       "Index: []"
      ]
     },
     "execution_count": 181,
     "metadata": {},
     "output_type": "execute_result"
    }
   ],
   "source": [
    "df_sources_1_2"
   ]
  },
  {
   "cell_type": "code",
   "execution_count": 182,
   "metadata": {},
   "outputs": [
    {
     "name": "stdout",
     "output_type": "stream",
     "text": [
      "No_Empty\n"
     ]
    },
    {
     "data": {
      "text/html": [
       "<div>\n",
       "<style scoped>\n",
       "    .dataframe tbody tr th:only-of-type {\n",
       "        vertical-align: middle;\n",
       "    }\n",
       "\n",
       "    .dataframe tbody tr th {\n",
       "        vertical-align: top;\n",
       "    }\n",
       "\n",
       "    .dataframe thead th {\n",
       "        text-align: right;\n",
       "    }\n",
       "</style>\n",
       "<table border=\"1\" class=\"dataframe\">\n",
       "  <thead>\n",
       "    <tr style=\"text-align: right;\">\n",
       "      <th></th>\n",
       "      <th>Sources</th>\n",
       "      <th>Company Name</th>\n",
       "    </tr>\n",
       "  </thead>\n",
       "  <tbody>\n",
       "  </tbody>\n",
       "</table>\n",
       "</div>"
      ],
      "text/plain": [
       "Empty DataFrame\n",
       "Columns: [Sources, Company Name]\n",
       "Index: []"
      ]
     },
     "execution_count": 182,
     "metadata": {},
     "output_type": "execute_result"
    }
   ],
   "source": [
    "i=0\n",
    "slide_x = 'Index_of'\n",
    "try:\n",
    "    for slide in prs.slides:\n",
    "        \n",
    "        i=i+1\n",
    "        title = slide.shapes.title.text\n",
    "        if (title=='Sources (2/2)'):\n",
    "            slide_x = slide\n",
    "        else:\n",
    "            i=i\n",
    "except:\n",
    "    pass\n",
    "\n",
    "i = 0\n",
    "try:\n",
    "    for shape in slide_x.shapes:\n",
    "        i = i+1\n",
    "        if i==2:\n",
    "            sources = shape.text\n",
    "    df_sources_2_2 = pd.DataFrame({'Sources': sources.split('\\n')})\n",
    "    df_sources_2_2['Company Name'] = name_of_company\n",
    "except:\n",
    "    pass\n",
    "\n",
    "\n",
    "# Ensure variable is defined\n",
    "try:\n",
    "    df_sources_2_2\n",
    "except NameError:\n",
    "    df_sources_2_2 = None\n",
    "\n",
    "# Test whether variable is defined to be None\n",
    "if df_sources_2_2 is None:\n",
    "    print('Empty')\n",
    "    df_sources_2_2 = pd.DataFrame(columns=['Sources','Company Name'])\n",
    "    df_sources_2_2['Company Name'] = name_of_company\n",
    "else:\n",
    "    print('No_Empty')\n",
    "    df_sources_2_2 = df_sources_2_2\n",
    "df_sources_2_2"
   ]
  },
  {
   "cell_type": "markdown",
   "metadata": {},
   "source": [
    "#### Appending"
   ]
  },
  {
   "cell_type": "markdown",
   "metadata": {},
   "source": [
    "#### далее все апендим о один датафрейм"
   ]
  },
  {
   "cell_type": "code",
   "execution_count": 183,
   "metadata": {},
   "outputs": [],
   "source": [
    "df_sources_g = df_sources.append(df_sources_1_2.append(df_sources_2_2))"
   ]
  },
  {
   "cell_type": "markdown",
   "metadata": {},
   "source": [
    "# General merge"
   ]
  },
  {
   "cell_type": "markdown",
   "metadata": {},
   "source": [
    "#### вот что получилось в конце"
   ]
  },
  {
   "cell_type": "code",
   "execution_count": 184,
   "metadata": {},
   "outputs": [
    {
     "data": {
      "text/html": [
       "<div>\n",
       "<style scoped>\n",
       "    .dataframe tbody tr th:only-of-type {\n",
       "        vertical-align: middle;\n",
       "    }\n",
       "\n",
       "    .dataframe tbody tr th {\n",
       "        vertical-align: top;\n",
       "    }\n",
       "\n",
       "    .dataframe thead th {\n",
       "        text-align: right;\n",
       "    }\n",
       "</style>\n",
       "<table border=\"1\" class=\"dataframe\">\n",
       "  <thead>\n",
       "    <tr style=\"text-align: right;\">\n",
       "      <th></th>\n",
       "      <th>0</th>\n",
       "    </tr>\n",
       "  </thead>\n",
       "  <tbody>\n",
       "    <tr>\n",
       "      <th>Company name</th>\n",
       "      <td>Andrey Ravilyevich Bikchentay</td>\n",
       "    </tr>\n",
       "    <tr>\n",
       "      <th>Key</th>\n",
       "      <td>1</td>\n",
       "    </tr>\n",
       "    <tr>\n",
       "      <th>Date</th>\n",
       "      <td>29 September 2011</td>\n",
       "    </tr>\n",
       "    <tr>\n",
       "      <th>Registration details</th>\n",
       "      <td>No_data</td>\n",
       "    </tr>\n",
       "    <tr>\n",
       "      <th>Key individuals</th>\n",
       "      <td>No_data</td>\n",
       "    </tr>\n",
       "    <tr>\n",
       "      <th>Background</th>\n",
       "      <td>No_data</td>\n",
       "    </tr>\n",
       "    <tr>\n",
       "      <th>Notes</th>\n",
       "      <td>No_data</td>\n",
       "    </tr>\n",
       "    <tr>\n",
       "      <th>affiliationtocriminalorcontroversialindividuals</th>\n",
       "      <td>No reports found</td>\n",
       "    </tr>\n",
       "    <tr>\n",
       "      <th>allegationsofbribery</th>\n",
       "      <td>No reports found\\n</td>\n",
       "    </tr>\n",
       "    <tr>\n",
       "      <th>allegationsofmoneylaundering/blackcash</th>\n",
       "      <td>No reports found\\n</td>\n",
       "    </tr>\n",
       "    <tr>\n",
       "      <th>regulatoryenquiries/criminalconvictions</th>\n",
       "      <td>No reports found</td>\n",
       "    </tr>\n",
       "    <tr>\n",
       "      <th>internationalblacklistsearchresult</th>\n",
       "      <td>No negative reports found</td>\n",
       "    </tr>\n",
       "    <tr>\n",
       "      <th>partytocourtarbitrationorlitigations</th>\n",
       "      <td>The archives of litigation records available o...</td>\n",
       "    </tr>\n",
       "    <tr>\n",
       "      <th>disputeswithauthorities</th>\n",
       "      <td>No_data</td>\n",
       "    </tr>\n",
       "    <tr>\n",
       "      <th>affiliationtopoliticallyexposedpersons</th>\n",
       "      <td>No reports found</td>\n",
       "    </tr>\n",
       "    <tr>\n",
       "      <th>stateinvolvementasshareholder</th>\n",
       "      <td>No_data</td>\n",
       "    </tr>\n",
       "    <tr>\n",
       "      <th>listedonstockexchanges</th>\n",
       "      <td>No_data</td>\n",
       "    </tr>\n",
       "    <tr>\n",
       "      <th>opaqueshareholdingstructure</th>\n",
       "      <td>No_data</td>\n",
       "    </tr>\n",
       "    <tr>\n",
       "      <th>corporateaffairs</th>\n",
       "      <td>No negative reports found\\n</td>\n",
       "    </tr>\n",
       "    <tr>\n",
       "      <th>businessrelations</th>\n",
       "      <td>No negative reports found\\n</td>\n",
       "    </tr>\n",
       "    <tr>\n",
       "      <th>otherissues</th>\n",
       "      <td>No other areas of concern identified\\n</td>\n",
       "    </tr>\n",
       "  </tbody>\n",
       "</table>\n",
       "</div>"
      ],
      "text/plain": [
       "                                                                                                 0\n",
       "Company name                                                         Andrey Ravilyevich Bikchentay\n",
       "Key                                                                                              1\n",
       "Date                                                                             29 September 2011\n",
       "Registration details                                                                       No_data\n",
       "Key individuals                                                                            No_data\n",
       "Background                                                                                 No_data\n",
       "Notes                                                                                      No_data\n",
       "affiliationtocriminalorcontroversialindividuals                                   No reports found\n",
       "allegationsofbribery                                                            No reports found\\n\n",
       "allegationsofmoneylaundering/blackcash                                          No reports found\\n\n",
       "regulatoryenquiries/criminalconvictions                                           No reports found\n",
       "internationalblacklistsearchresult                                       No negative reports found\n",
       "partytocourtarbitrationorlitigations             The archives of litigation records available o...\n",
       "disputeswithauthorities                                                                    No_data\n",
       "affiliationtopoliticallyexposedpersons                                            No reports found\n",
       "stateinvolvementasshareholder                                                              No_data\n",
       "listedonstockexchanges                                                                     No_data\n",
       "opaqueshareholdingstructure                                                                No_data\n",
       "corporateaffairs                                                       No negative reports found\\n\n",
       "businessrelations                                                      No negative reports found\\n\n",
       "otherissues                                                 No other areas of concern identified\\n"
      ]
     },
     "execution_count": 184,
     "metadata": {},
     "output_type": "execute_result"
    }
   ],
   "source": [
    "general_tmp = trg.merge(dt.merge(df_c_d_g.merge(df_e_s_k_f_g)))\n",
    "general_tmp.T"
   ]
  },
  {
   "cell_type": "markdown",
   "metadata": {},
   "source": [
    "# Далее полученный датафрейм нужно заапендить в общий датафрейм созданный заранее уже, но это будет делаться в основном цикле. программа cycle"
   ]
  }
 ],
 "metadata": {
  "kernelspec": {
   "display_name": "Python 3",
   "language": "python",
   "name": "python3"
  },
  "language_info": {
   "codemirror_mode": {
    "name": "ipython",
    "version": 3
   },
   "file_extension": ".py",
   "mimetype": "text/x-python",
   "name": "python",
   "nbconvert_exporter": "python",
   "pygments_lexer": "ipython3",
   "version": "3.6.3"
  }
 },
 "nbformat": 4,
 "nbformat_minor": 2
}
